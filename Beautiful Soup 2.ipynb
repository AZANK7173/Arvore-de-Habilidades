{
 "cells": [
  {
   "cell_type": "code",
   "execution_count": 30,
   "metadata": {},
   "outputs": [],
   "source": [
    "import bs4\n",
    "\n",
    "from urllib.request import urlopen as uReq\n",
    "\n",
    "from bs4 import BeautifulSoup"
   ]
  },
  {
   "cell_type": "code",
   "execution_count": 31,
   "metadata": {},
   "outputs": [],
   "source": [
    "my_url='https://www.newegg.com/Processors-Desktops/SubCategory/ID-343'"
   ]
  },
  {
   "cell_type": "code",
   "execution_count": 32,
   "metadata": {},
   "outputs": [],
   "source": [
    "client= uReq(my_url)"
   ]
  },
  {
   "cell_type": "code",
   "execution_count": 33,
   "metadata": {},
   "outputs": [
    {
     "data": {
      "text/plain": [
       "<http.client.HTTPResponse at 0x12732cc0940>"
      ]
     },
     "execution_count": 33,
     "metadata": {},
     "output_type": "execute_result"
    }
   ],
   "source": [
    "client"
   ]
  },
  {
   "cell_type": "code",
   "execution_count": 34,
   "metadata": {},
   "outputs": [],
   "source": [
    "page= client.read()"
   ]
  },
  {
   "cell_type": "code",
   "execution_count": 35,
   "metadata": {},
   "outputs": [],
   "source": [
    "client.close()"
   ]
  },
  {
   "cell_type": "code",
   "execution_count": 36,
   "metadata": {},
   "outputs": [],
   "source": [
    "sopa=BeautifulSoup(page,'html.parser')"
   ]
  },
  {
   "cell_type": "code",
   "execution_count": 37,
   "metadata": {},
   "outputs": [
    {
     "data": {
      "text/plain": [
       "<h1 class=\"page-title-text\">Processors - Desktops</h1>"
      ]
     },
     "execution_count": 37,
     "metadata": {},
     "output_type": "execute_result"
    }
   ],
   "source": [
    "sopa.h1"
   ]
  },
  {
   "cell_type": "code",
   "execution_count": 38,
   "metadata": {},
   "outputs": [
    {
     "data": {
      "text/plain": [
       "<p>Newegg.com - A great place to buy computers, computer parts, electronics, software, accessories, and DVDs online. With great prices, fast shipping, and top-rated customer service - Newegg shopping upgraded ™</p>"
      ]
     },
     "execution_count": 38,
     "metadata": {},
     "output_type": "execute_result"
    }
   ],
   "source": [
    "sopa.p"
   ]
  },
  {
   "cell_type": "code",
   "execution_count": 39,
   "metadata": {},
   "outputs": [],
   "source": [
    "bloquinhos=sopa.findAll('div',{'class':'item-container'})"
   ]
  },
  {
   "cell_type": "code",
   "execution_count": 40,
   "metadata": {},
   "outputs": [
    {
     "data": {
      "text/plain": [
       "37"
      ]
     },
     "execution_count": 40,
     "metadata": {},
     "output_type": "execute_result"
    }
   ],
   "source": [
    "len(bloquinhos)"
   ]
  },
  {
   "cell_type": "code",
   "execution_count": 41,
   "metadata": {},
   "outputs": [
    {
     "data": {
      "text/plain": [
       "15"
      ]
     },
     "execution_count": 41,
     "metadata": {},
     "output_type": "execute_result"
    }
   ],
   "source": [
    "f=open('scrap.csv','w')\n",
    "headers='nome, shipping\\n'\n",
    "f.write(headers)"
   ]
  },
  {
   "cell_type": "code",
   "execution_count": null,
   "metadata": {},
   "outputs": [],
   "source": []
  },
  {
   "cell_type": "code",
   "execution_count": null,
   "metadata": {},
   "outputs": [],
   "source": []
  },
  {
   "cell_type": "code",
   "execution_count": 42,
   "metadata": {},
   "outputs": [],
   "source": [
    "for container in bloquinhos:\n",
    "    title=container.findAll('a',{'class':'item-title'})\n",
    "    name=title[0].text\n",
    "    entrega=container.findAll('li',{'class':\"price-ship\"})\n",
    "    shipping=entrega[0].text.strip()\n",
    "    \n",
    "    f.write(name.replace(',','|')+ ','+ shipping + \"\\n\")\n",
    "    \n",
    "f.close()"
   ]
  },
  {
   "cell_type": "code",
   "execution_count": null,
   "metadata": {},
   "outputs": [],
   "source": [
    "\n"
   ]
  },
  {
   "cell_type": "code",
   "execution_count": 43,
   "metadata": {},
   "outputs": [],
   "source": [
    "import pandas as pd"
   ]
  },
  {
   "cell_type": "code",
   "execution_count": 44,
   "metadata": {},
   "outputs": [],
   "source": [
    "scrap=pd.read_csv('scrap.csv')"
   ]
  },
  {
   "cell_type": "code",
   "execution_count": 45,
   "metadata": {},
   "outputs": [
    {
     "data": {
      "text/html": [
       "<div>\n",
       "<style scoped>\n",
       "    .dataframe tbody tr th:only-of-type {\n",
       "        vertical-align: middle;\n",
       "    }\n",
       "\n",
       "    .dataframe tbody tr th {\n",
       "        vertical-align: top;\n",
       "    }\n",
       "\n",
       "    .dataframe thead th {\n",
       "        text-align: right;\n",
       "    }\n",
       "</style>\n",
       "<table border=\"1\" class=\"dataframe\">\n",
       "  <thead>\n",
       "    <tr style=\"text-align: right;\">\n",
       "      <th></th>\n",
       "      <th>nome</th>\n",
       "      <th>shipping</th>\n",
       "    </tr>\n",
       "  </thead>\n",
       "  <tbody>\n",
       "    <tr>\n",
       "      <th>0</th>\n",
       "      <td>Intel Core i9-9900K Coffee Lake 8-Core| 16-Thr...</td>\n",
       "      <td>$3.99 Shipping</td>\n",
       "    </tr>\n",
       "    <tr>\n",
       "      <th>1</th>\n",
       "      <td>Intel Core i9-9900K Coffee Lake 8-Core| 16-Thr...</td>\n",
       "      <td>$3.99 Shipping</td>\n",
       "    </tr>\n",
       "    <tr>\n",
       "      <th>2</th>\n",
       "      <td>AMD Ryzen 7 2700X 8-Core 3.7 GHz (4.3 GHz Max ...</td>\n",
       "      <td>Free Shipping</td>\n",
       "    </tr>\n",
       "    <tr>\n",
       "      <th>3</th>\n",
       "      <td>Intel Core i7-9700K Coffee Lake 8-Core 3.6 GHz...</td>\n",
       "      <td>$3.99 Shipping</td>\n",
       "    </tr>\n",
       "    <tr>\n",
       "      <th>4</th>\n",
       "      <td>AMD RYZEN 5 2600X 6-Core 3.6 GHz (4.2 GHz Max ...</td>\n",
       "      <td>Free Shipping</td>\n",
       "    </tr>\n",
       "    <tr>\n",
       "      <th>5</th>\n",
       "      <td>Intel Core i5-9600K Coffee Lake 6-Core 3.7 GHz...</td>\n",
       "      <td>Free Shipping</td>\n",
       "    </tr>\n",
       "    <tr>\n",
       "      <th>6</th>\n",
       "      <td>AMD RYZEN 7 2700 8-Core 3.2 GHz (4.1 GHz Max B...</td>\n",
       "      <td>Free Shipping</td>\n",
       "    </tr>\n",
       "    <tr>\n",
       "      <th>7</th>\n",
       "      <td>Intel Core i5-9400F Coffee Lake 6-Core 2.9 GHz...</td>\n",
       "      <td>$2.99 Shipping</td>\n",
       "    </tr>\n",
       "    <tr>\n",
       "      <th>8</th>\n",
       "      <td>AMD RYZEN 5 2600 6-Core 3.4 GHz (3.9 GHz Max B...</td>\n",
       "      <td>Free Shipping</td>\n",
       "    </tr>\n",
       "    <tr>\n",
       "      <th>9</th>\n",
       "      <td>AMD RYZEN 5 2400G Quad-Core 3.6 GHz (3.9 GHz M...</td>\n",
       "      <td>Free Shipping</td>\n",
       "    </tr>\n",
       "    <tr>\n",
       "      <th>10</th>\n",
       "      <td>AMD RYZEN 7 3700X 8-Core 3.6 GHz (4.4 GHz Max ...</td>\n",
       "      <td>$3.99 Shipping</td>\n",
       "    </tr>\n",
       "    <tr>\n",
       "      <th>11</th>\n",
       "      <td>AMD RYZEN 5 3600 6-Core 3.6 GHz (4.2 GHz Max B...</td>\n",
       "      <td>$2.99 Shipping</td>\n",
       "    </tr>\n",
       "    <tr>\n",
       "      <th>12</th>\n",
       "      <td>AMD RYZEN 5 3400G 4-Core 3.7 GHz (4.2 GHz Max ...</td>\n",
       "      <td>$2.99 Shipping</td>\n",
       "    </tr>\n",
       "    <tr>\n",
       "      <th>13</th>\n",
       "      <td>AMD RYZEN 3 2200G Quad-Core 3.5 GHz (3.7 GHz M...</td>\n",
       "      <td>Free Shipping</td>\n",
       "    </tr>\n",
       "    <tr>\n",
       "      <th>14</th>\n",
       "      <td>AMD RYZEN 7 3800X 8-Core 3.9 GHz (4.5 GHz Max ...</td>\n",
       "      <td>Free Shipping</td>\n",
       "    </tr>\n",
       "  </tbody>\n",
       "</table>\n",
       "</div>"
      ],
      "text/plain": [
       "                                                 nome        shipping\n",
       "0   Intel Core i9-9900K Coffee Lake 8-Core| 16-Thr...  $3.99 Shipping\n",
       "1   Intel Core i9-9900K Coffee Lake 8-Core| 16-Thr...  $3.99 Shipping\n",
       "2   AMD Ryzen 7 2700X 8-Core 3.7 GHz (4.3 GHz Max ...   Free Shipping\n",
       "3   Intel Core i7-9700K Coffee Lake 8-Core 3.6 GHz...  $3.99 Shipping\n",
       "4   AMD RYZEN 5 2600X 6-Core 3.6 GHz (4.2 GHz Max ...   Free Shipping\n",
       "5   Intel Core i5-9600K Coffee Lake 6-Core 3.7 GHz...   Free Shipping\n",
       "6   AMD RYZEN 7 2700 8-Core 3.2 GHz (4.1 GHz Max B...   Free Shipping\n",
       "7   Intel Core i5-9400F Coffee Lake 6-Core 2.9 GHz...  $2.99 Shipping\n",
       "8   AMD RYZEN 5 2600 6-Core 3.4 GHz (3.9 GHz Max B...   Free Shipping\n",
       "9   AMD RYZEN 5 2400G Quad-Core 3.6 GHz (3.9 GHz M...   Free Shipping\n",
       "10  AMD RYZEN 7 3700X 8-Core 3.6 GHz (4.4 GHz Max ...  $3.99 Shipping\n",
       "11  AMD RYZEN 5 3600 6-Core 3.6 GHz (4.2 GHz Max B...  $2.99 Shipping\n",
       "12  AMD RYZEN 5 3400G 4-Core 3.7 GHz (4.2 GHz Max ...  $2.99 Shipping\n",
       "13  AMD RYZEN 3 2200G Quad-Core 3.5 GHz (3.7 GHz M...   Free Shipping\n",
       "14  AMD RYZEN 7 3800X 8-Core 3.9 GHz (4.5 GHz Max ...   Free Shipping"
      ]
     },
     "execution_count": 45,
     "metadata": {},
     "output_type": "execute_result"
    }
   ],
   "source": [
    "scrap.head(15)"
   ]
  },
  {
   "cell_type": "code",
   "execution_count": null,
   "metadata": {},
   "outputs": [],
   "source": []
  }
 ],
 "metadata": {
  "kernelspec": {
   "display_name": "Python 3",
   "language": "python",
   "name": "python3"
  },
  "language_info": {
   "codemirror_mode": {
    "name": "ipython",
    "version": 3
   },
   "file_extension": ".py",
   "mimetype": "text/x-python",
   "name": "python",
   "nbconvert_exporter": "python",
   "pygments_lexer": "ipython3",
   "version": "3.7.3"
  }
 },
 "nbformat": 4,
 "nbformat_minor": 2
}
