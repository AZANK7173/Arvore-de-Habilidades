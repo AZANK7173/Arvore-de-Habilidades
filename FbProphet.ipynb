{
 "cells": [
  {
   "cell_type": "markdown",
   "metadata": {},
   "source": [
    "<img src=\"https://www.politecnicos.com.br/img/075.jpg\" alt=\"Grupo Turing\" height=\"420\" width=\"420\">\n"
   ]
  },
  {
   "cell_type": "markdown",
   "metadata": {},
   "source": [
    "# Prophet - Resumo e Aplicação\n",
    "\n",
    "<img id=\"YqOEc9IXkyKm5M:\" src=\"data:image/png;base64,iVBORw0KGgoAAAANSUhEUgAAAaQAAAB4CAMAAACKGXbnAAAAeFBMVEU7WZj///84V5cwUZQ2VZb7/P34+fubqMiptM4sT5Pv8fbS2OZUbqVkfK5IZJ9cdqrd4uwlSpG9xtprgbCzvtZAXpt6jbhPaqOFl79+kLjX3eqSosWisM3z9fnCy95MZp/n6/O3wddyhrKUo8RZcabL0uKLm8AbR5D4Ht7GAAAJ8UlEQVR4nO2da5eiOBCGIQTkIkKLgCIoeNv//w8XVJIolQR7e1baqefLnNNapMhrkkqlYAwDQRAEQRAEQRAEQRAEQRAEQRAEQT4dankefbcTiBJ6KndNRsm7/UDk0Mh3TLOaWe92BJHzVZhXTjiUJguJbhqZLg6lyUIPd5GW3rtdQWSQvX0TaYsjabp4zVWjOsc1abqQvKlMMzjgTmnKkEWYHeY4jiYOaXm3DwiCID8PoRSnt2lDvTxJTgR3RdOFWNEyruv4vDZwME0UQtb1LcHgrFJUaZrQzT0J1LLCsTRJyL42ORkmGaaIdRE0MoOvd/uDAHg7USQTR9IU+YofRJqjShPkSSQ8nZgi3vJBJA9FmiDsrBwPzCdMeuYaOSEuSW+E9Aw/ObCNUnX8Wyc7Qq0hY5LOFIa8nBVoPaD5fB5F83xveM91qYRk51vOoT7ytJDM6xfuFrgjxWdPX5AxHOmgpwPUjpN0MxuwzsJ9299KwzwDSfLuXEFp+XzjeeaudvGVYFVuFk/BASHzSxMEu1nI5SdpNvT6kiV7QpRCkXTdf/s4cJJc2JX2sKuHYaNPJMMWAU8HlOqolczPtvNMVfl1USaGQmASxdUNX/zH9+t6dwy/xtZpW3TTxJXN0nO2XcVN+GRMyWI+XxjiNRergdNXr+vVYaHyOi/6u60HMYgV9Feqnz244bnVsNUH7NlgHkmXw/4dYCbK3zWZB6YEJ56lUlsS+TI70/TjbNQhHaFZMbQuFsDK9DSLLpZDu7vMcZnLvc7ZtqsaisRCFB8OUCzXhtvkzAZG6U5n06GufFKI1PVXJlthlCJ1lol2bSJpAkg0LoSTi9RSbwGZb02+QSSVp4z/IpLpl5IzHJ1IZj1bqNrtWi5rwK7ajFnRlCKZ9koyx/8PIg2nO51Nx38SyTQlKmlFMqtSqRKNdtAt22WqsupRi2SaO3jK+8yR1D0GBNtpRWq3NYqWaXSGbOzluOycTiSzAX9bnyqSWYPzzwiRTD+SNk1zaDkyzUBu8oBWJGf2JpHeMt21U8ceuN8xIplnWaqNWLBGcTIydNeKZMbQI2YfEN2t7gRF7QgXqC7AFQSRarc3XLaWYtOOdFw0Dy5WxTEJwzDKRtfgCyLt7o3virgSrmmXQN7gx0QKVjDZwChdxQWnZldwHv4Mb8yY21wk2/BufH2l2U6QqQEiAEGkpeV5zDJfB4KlZFWim4cfQRN+WfekkspVEUGk7KtvnISuMLyLCNhu/ZBI9uUfDwSws4SPvxL2I64frqBJC3GRHOGv1Dryn2UN+CyItBPjMWrtXW55BtukkTDZ2UFGXs9tCyKt+Yih9MDPCKEJ4MdE+ubzazRh7ccvlGvAInUelex2HSB0kInUOrLnsbUP7SoJKYW5facMFWT6wSK1a92BjVEomP80keic/dyBjJRCJMPK2FDywdVbHEjnk0ojuljDH0tEauEfLIez9KeJ1K547HaB0lGFSCRlE68PJg63wkyq1MiKzhUUWipEIrwE7Dx8zOzTRCIGn+9WwMShEInynoD2WIuGXdi8qG7W61YY+BtykUI23/0VIs2+KZJBmCfQ3VIe4bQbKXlYQ9NZN+J2YH/JRYr+KpHS744kg/LpDgiD6Zpd15SsONev5a4z9KpHLlLCghKdSOkTBuuJESJ54KG0jp9fkxrWD+5LaxJN2Ef+cEUhqcuu60trHQkN7zGiDS5rUpHokX2wG6YBBZHs8mkf6vJNln4z22SbIYNj2QE/PpIiNh6cC7AtlIfg6ZJvzIEWxWSBNE9O1n0EaB+hmUUmEjGEBIoyulOhF8nxAZbaBP5PiyQUYVdAtkYmErkvJTdKwHDP09+l9GAwFfoaSgDK9kkeH0jOEdg4/JRIIGfNCdrPiNQdUpPu50gsr+EOBUCcLKaFeOGQZVnRkmvkAFMVOfF+AvZfd1L+Jb1I3dF65zmhnpgnAZ6T+f0i2SnLoM3XYpbahcrhuEhF2JcKbbZlIN5HDNSECNOoeZS69cJI2vRruJX2xV+3LgNOpn6/SGZ8Dm4UYjrZjKGle9RRBXSvI0Xic6JOpN7rc1CLfVhBa9kHiATjlKCdXiTbhU8LuUiK6Y6PZJ1Ish6Djng/ViRgu2GMEgkIga8N8v4fJVLzLZHqg+ZkVsWvEylOwM21ViRnCWxkOxY8bGxkMSud884E3w+pE8kHdg3Gnxbp/wjBQWLJmaFOJL+UvUVLSNzWsu9Ya3Z1G8xKaERy1tqSLntbPvPCZnY3qsZ4wJ8RKZhLkh0akYpE9s4FkvKcoCwtRMiKFx6Dk6ZapDj7TnEkfSUtBE8vcKtCE39ApHotLRZWitQOP0VSjp/LwQtHt5fiSxIUxqtFqlzZL+tJJPLAiwlWMkR6y/zef1Yk2/ELRSm4KJJ9r9zndQsVvI71Lfad4UuKVQmZ8WsBSQtDLpJTxe5JXrH/+7Pgpl9fU1B1HMdFM0tS1VMzYrXQZn1FqAKJ4aO6G32G1ZGWMAuHGSZ8ui6I1Hvdul2c3U2uKur4AJEut2RuFkbzNAWeh3qw4yLF1Lpt+PlCYq5UtpurBnYjUZIPtZYAnrkEkcq710l0WqSG+rzg94tkp+xgRD+9iiL1HkRCqc5afhdkcc0LyopVqXBGIont4LQQ0T9l+PtFgo/XZHZDkQhZCxOe4gEW2j0GKySbHnrWysVC/rNktMkLUdRe//UitT4IJbVL2TNC3XFGO1ZY0ECshWfdZqnu6dm1uN30ZSWtbxfJA6I7fYQ3BZHYf/Vhwsc5zDgvtqyPyCaut/N9d4C9D8vHjIAr28O/W6TZKQKZq9ufhEg0E85zJJug6/fCPrAj+XWjbwe75XL3XMUPZ/863iySlEIV1k5EJMPjBQxwHro37zWaN2JZ+COBXOapihT8BpFILoTP8D5UxIoU+Y4gkcfTKNIoO1ikdoXhEV6leUSZeJkiKR2orFGkUXYSkQyhYsuMlW+2JcZMkf9rlIX8KNIoO5lI5CRMeODZLGMh6PlEvVXkDQ0UaaSdTCTD2vDMm6MoUe12SGEAhg3+Ktf0/N8nkn3DHPVwfm8XsWC7ePoodR27R/MQLE2z3cNDlG0w7hdNqM1LtSL1Xit/B89etyLd7apBJ1lF77UveW3Nit8YzBiR7l+tX3nn72Lr3lm+8n4tclreS4uC8vm9WieXsdK9JJoa4XEZ1L7vtPL4dXx216fBm7qGraeX1b2FwZuIlKQz5tnw0I95XcJdTS+uhtVM/X55cuLtv5RY4gXnr1iRdJ/fGeR/Xixip2R+2FzKlbvdbBLt28HuzfN6zNee5VTcLdF6LXl7HMfS3a/Qxktuf5NXDiS1l2q7pXusYcwb65C3gvogCIIgCIIgCIIgCIIgCIIgCIIgCIIgCIIgCIIgCIIgCIJI+BecItNzWU49HAAAAABJRU5ErkJggg==\" jsaction=\"load:str.tbn\" class=\"rg_ic rg_i\" alt=\"Resultado de imagem para fbprophet\" style=\"width: 270px; height: 77px; margin-left: -8px; margin-right: -8px; margin-top: 29px;\" data-atf=\"1\">\n",
    "\n",
    "Autor: Felipe Azank dos Santos"
   ]
  },
  {
   "cell_type": "markdown",
   "metadata": {},
   "source": [
    "O Facebook Prophet, ou apenas Prophet, consiste em uma técnica de previsão com base em dados que se alteram com o passar do tempo (Time Series). Essa técnica, desenvolvida pela equipe de Data Scientists do Facebook, se destaca uma vez que consegue lidar muito bem com dados sazonais variáveis, compreendendo desde padrões anuais e mensais, até o impacto de feriados e promoções. Ademais, o Prophet também lida com outliers com extrema facilidade, além de vir com um aparato de funções de vizualizações de resultados extremamente didático. \n",
    "\n",
    "Na prática, sua utilização é bem semelhante com os métodos que utilizamos para treinar modelos supervisionados no Scikit-Learn. "
   ]
  },
  {
   "cell_type": "markdown",
   "metadata": {},
   "source": [
    "## Passo 1: Instalando o Prophet \n",
    "\n",
    "Guia do próprio site disponível [aqui](https://facebook.github.io/prophet/docs/installation.html)\n",
    "\n",
    "OU apenas use o seguinte comando no terminal da anaconda: **conda install -c conda-forge fbprophet**"
   ]
  },
  {
   "cell_type": "markdown",
   "metadata": {},
   "source": [
    "## Passo 2: Importando as bibliotecas necessárias"
   ]
  },
  {
   "cell_type": "code",
   "execution_count": 3,
   "metadata": {},
   "outputs": [
    {
     "name": "stderr",
     "output_type": "stream",
     "text": [
      "/home/azank7173/anaconda3/lib/python3.7/importlib/_bootstrap.py:219: RuntimeWarning: numpy.ufunc size changed, may indicate binary incompatibility. Expected 192 from C header, got 216 from PyObject\n",
      "  return f(*args, **kwds)\n",
      "/home/azank7173/anaconda3/lib/python3.7/importlib/_bootstrap.py:219: RuntimeWarning: numpy.ufunc size changed, may indicate binary incompatibility. Expected 192 from C header, got 216 from PyObject\n",
      "  return f(*args, **kwds)\n",
      "/home/azank7173/anaconda3/lib/python3.7/importlib/_bootstrap.py:219: RuntimeWarning: numpy.ufunc size changed, may indicate binary incompatibility. Expected 192 from C header, got 216 from PyObject\n",
      "  return f(*args, **kwds)\n",
      "ERROR:fbprophet:Importing plotly failed. Interactive plots will not work.\n"
     ]
    }
   ],
   "source": [
    "import pandas as pd #biblioteca que usaremos para manipular os nossos dados\n",
    "\n",
    "from pandas_datareader.data import DataReader #pacote que utilizaremos para importar os dados\n",
    "\n",
    "from fbprophet import Prophet #biblioteca da predição em si"
   ]
  },
  {
   "cell_type": "markdown",
   "metadata": {},
   "source": [
    "## Passo 3: Importando os preços de uma ação\n",
    "\n",
    "<img class=\"irc_mi\" src=\"https://i.ytimg.com/vi/YttPJlBFG-c/hqdefault.jpg\" width=\"250\" height=\"360\" style=\"\" alt=\"Resultado de imagem para stonks\">\n",
    "\n",
    "É possível importar ações e dados econômicos de diversas maneiras distintas. Uma forma simples de se fazer isso é utilizando o pacote pandas_datareader com a função \"DataReader\", utilizada da seguinte maneira:\n",
    "\n",
    "* pd.DataReader(\"código da ação\",\"local de retirada do dado\",\"data de início\",\"data de fim\")\n",
    "\n",
    "**OBS:** Para dados da bolsa, sempre utilize o segundo argumento como \"yahoo\", haja vista que o Yahoo Finance fornece dados confiáveis e precisos\n",
    "\n",
    "**OBS2:** Caso queira importar alguns dados econômicos fornecidos pela Federal Reserve dos Estados Unidos (disponíveis [neste site](https://fred.stlouisfed.org/searchresults?st=brazil%5D), basta trocar o segundo argumento para \"fred\" e inserir no primeiro argumento o código presente no site :) "
   ]
  },
  {
   "cell_type": "markdown",
   "metadata": {},
   "source": [
    "\n",
    "\n"
   ]
  },
  {
   "cell_type": "code",
   "execution_count": 4,
   "metadata": {},
   "outputs": [],
   "source": [
    "# Importando as ações da American Airlines\n",
    "data=DataReader('AAL','yahoo','01-01-2017','01-01-2019')"
   ]
  },
  {
   "cell_type": "code",
   "execution_count": 5,
   "metadata": {
    "scrolled": true
   },
   "outputs": [
    {
     "data": {
      "text/html": [
       "<div>\n",
       "<style scoped>\n",
       "    .dataframe tbody tr th:only-of-type {\n",
       "        vertical-align: middle;\n",
       "    }\n",
       "\n",
       "    .dataframe tbody tr th {\n",
       "        vertical-align: top;\n",
       "    }\n",
       "\n",
       "    .dataframe thead th {\n",
       "        text-align: right;\n",
       "    }\n",
       "</style>\n",
       "<table border=\"1\" class=\"dataframe\">\n",
       "  <thead>\n",
       "    <tr style=\"text-align: right;\">\n",
       "      <th></th>\n",
       "      <th>High</th>\n",
       "      <th>Low</th>\n",
       "      <th>Open</th>\n",
       "      <th>Close</th>\n",
       "      <th>Volume</th>\n",
       "      <th>Adj Close</th>\n",
       "    </tr>\n",
       "    <tr>\n",
       "      <th>Date</th>\n",
       "      <th></th>\n",
       "      <th></th>\n",
       "      <th></th>\n",
       "      <th></th>\n",
       "      <th></th>\n",
       "      <th></th>\n",
       "    </tr>\n",
       "  </thead>\n",
       "  <tbody>\n",
       "    <tr>\n",
       "      <td>2017-01-03</td>\n",
       "      <td>47.340000</td>\n",
       "      <td>46.139999</td>\n",
       "      <td>47.279999</td>\n",
       "      <td>46.299999</td>\n",
       "      <td>6737800.0</td>\n",
       "      <td>44.906567</td>\n",
       "    </tr>\n",
       "    <tr>\n",
       "      <td>2017-01-04</td>\n",
       "      <td>47.439999</td>\n",
       "      <td>46.349998</td>\n",
       "      <td>46.630001</td>\n",
       "      <td>46.700001</td>\n",
       "      <td>5859600.0</td>\n",
       "      <td>45.294525</td>\n",
       "    </tr>\n",
       "    <tr>\n",
       "      <td>2017-01-05</td>\n",
       "      <td>46.930000</td>\n",
       "      <td>45.610001</td>\n",
       "      <td>46.520000</td>\n",
       "      <td>45.889999</td>\n",
       "      <td>6825300.0</td>\n",
       "      <td>44.508907</td>\n",
       "    </tr>\n",
       "    <tr>\n",
       "      <td>2017-01-06</td>\n",
       "      <td>46.720001</td>\n",
       "      <td>45.470001</td>\n",
       "      <td>45.849998</td>\n",
       "      <td>46.209999</td>\n",
       "      <td>7260200.0</td>\n",
       "      <td>44.819275</td>\n",
       "    </tr>\n",
       "    <tr>\n",
       "      <td>2017-01-09</td>\n",
       "      <td>47.340000</td>\n",
       "      <td>45.779999</td>\n",
       "      <td>46.009998</td>\n",
       "      <td>47.080002</td>\n",
       "      <td>4739100.0</td>\n",
       "      <td>45.663097</td>\n",
       "    </tr>\n",
       "  </tbody>\n",
       "</table>\n",
       "</div>"
      ],
      "text/plain": [
       "                 High        Low       Open      Close     Volume  Adj Close\n",
       "Date                                                                        \n",
       "2017-01-03  47.340000  46.139999  47.279999  46.299999  6737800.0  44.906567\n",
       "2017-01-04  47.439999  46.349998  46.630001  46.700001  5859600.0  45.294525\n",
       "2017-01-05  46.930000  45.610001  46.520000  45.889999  6825300.0  44.508907\n",
       "2017-01-06  46.720001  45.470001  45.849998  46.209999  7260200.0  44.819275\n",
       "2017-01-09  47.340000  45.779999  46.009998  47.080002  4739100.0  45.663097"
      ]
     },
     "execution_count": 5,
     "metadata": {},
     "output_type": "execute_result"
    }
   ],
   "source": [
    "data.head()"
   ]
  },
  {
   "cell_type": "markdown",
   "metadata": {},
   "source": [
    "## Criando o DataFrame necessário\n",
    "\n",
    "Agora, criaremos o DataFrame necessário para que seja possível realizarmos a predição. Para que isso seja possível, vamos selecionar apenas duas colunas nomeadas \"ds\" e \"y\", sendo a primeira formada pelas datas, e a segunda, formada pelos valores desejados. \n",
    "\n",
    "Nesse caso usaremos o preço de fechamento da ação (\"Close\")"
   ]
  },
  {
   "cell_type": "code",
   "execution_count": 6,
   "metadata": {},
   "outputs": [],
   "source": [
    "df=pd.DataFrame() #iniciamos um dataframe vazio \n",
    "\n",
    "df['y']=data['Close'] #criamos a coluna 'y'\n",
    "\n",
    "df['ds']=pd.to_datetime(data.index) #criamos a coluna 'ds' e certificamos que esteja na forma de datetime\n",
    "\n",
    "df.reset_index(inplace=True) #retiramos o index (requerimento do Prophet)\n",
    "df.drop('Date',axis=1,inplace=True) "
   ]
  },
  {
   "cell_type": "code",
   "execution_count": 7,
   "metadata": {},
   "outputs": [
    {
     "data": {
      "text/html": [
       "<div>\n",
       "<style scoped>\n",
       "    .dataframe tbody tr th:only-of-type {\n",
       "        vertical-align: middle;\n",
       "    }\n",
       "\n",
       "    .dataframe tbody tr th {\n",
       "        vertical-align: top;\n",
       "    }\n",
       "\n",
       "    .dataframe thead th {\n",
       "        text-align: right;\n",
       "    }\n",
       "</style>\n",
       "<table border=\"1\" class=\"dataframe\">\n",
       "  <thead>\n",
       "    <tr style=\"text-align: right;\">\n",
       "      <th></th>\n",
       "      <th>y</th>\n",
       "      <th>ds</th>\n",
       "    </tr>\n",
       "  </thead>\n",
       "  <tbody>\n",
       "    <tr>\n",
       "      <td>0</td>\n",
       "      <td>46.299999</td>\n",
       "      <td>2017-01-03</td>\n",
       "    </tr>\n",
       "    <tr>\n",
       "      <td>1</td>\n",
       "      <td>46.700001</td>\n",
       "      <td>2017-01-04</td>\n",
       "    </tr>\n",
       "    <tr>\n",
       "      <td>2</td>\n",
       "      <td>45.889999</td>\n",
       "      <td>2017-01-05</td>\n",
       "    </tr>\n",
       "    <tr>\n",
       "      <td>3</td>\n",
       "      <td>46.209999</td>\n",
       "      <td>2017-01-06</td>\n",
       "    </tr>\n",
       "    <tr>\n",
       "      <td>4</td>\n",
       "      <td>47.080002</td>\n",
       "      <td>2017-01-09</td>\n",
       "    </tr>\n",
       "  </tbody>\n",
       "</table>\n",
       "</div>"
      ],
      "text/plain": [
       "           y         ds\n",
       "0  46.299999 2017-01-03\n",
       "1  46.700001 2017-01-04\n",
       "2  45.889999 2017-01-05\n",
       "3  46.209999 2017-01-06\n",
       "4  47.080002 2017-01-09"
      ]
     },
     "execution_count": 7,
     "metadata": {},
     "output_type": "execute_result"
    }
   ],
   "source": [
    "df.head()"
   ]
  },
  {
   "cell_type": "markdown",
   "metadata": {},
   "source": [
    "## Montando o modelo"
   ]
  },
  {
   "cell_type": "code",
   "execution_count": 8,
   "metadata": {},
   "outputs": [
    {
     "name": "stderr",
     "output_type": "stream",
     "text": [
      "INFO:numexpr.utils:NumExpr defaulting to 8 threads.\n",
      "INFO:fbprophet:Disabling yearly seasonality. Run prophet with yearly_seasonality=True to override this.\n",
      "INFO:fbprophet:Disabling daily seasonality. Run prophet with daily_seasonality=True to override this.\n"
     ]
    },
    {
     "data": {
      "text/plain": [
       "<fbprophet.forecaster.Prophet at 0x7fed25866450>"
      ]
     },
     "execution_count": 8,
     "metadata": {},
     "output_type": "execute_result"
    }
   ],
   "source": [
    "Fb=Prophet(seasonality_mode='multiplicative') #criando o modelo\n",
    "\n",
    "Fb.fit(df) #treinando o modelo com a base de teste (parecido com o que fazemos no sklearn)"
   ]
  },
  {
   "cell_type": "markdown",
   "metadata": {},
   "source": [
    "## Criando o \"fututo\"\n",
    "Para realizarmos uma predição, o FbProphet apresenta um pacote especializado em criar datas de modo bem simples"
   ]
  },
  {
   "cell_type": "code",
   "execution_count": 9,
   "metadata": {},
   "outputs": [
    {
     "data": {
      "text/html": [
       "<div>\n",
       "<style scoped>\n",
       "    .dataframe tbody tr th:only-of-type {\n",
       "        vertical-align: middle;\n",
       "    }\n",
       "\n",
       "    .dataframe tbody tr th {\n",
       "        vertical-align: top;\n",
       "    }\n",
       "\n",
       "    .dataframe thead th {\n",
       "        text-align: right;\n",
       "    }\n",
       "</style>\n",
       "<table border=\"1\" class=\"dataframe\">\n",
       "  <thead>\n",
       "    <tr style=\"text-align: right;\">\n",
       "      <th></th>\n",
       "      <th>ds</th>\n",
       "    </tr>\n",
       "  </thead>\n",
       "  <tbody>\n",
       "    <tr>\n",
       "      <td>0</td>\n",
       "      <td>2017-01-03</td>\n",
       "    </tr>\n",
       "    <tr>\n",
       "      <td>1</td>\n",
       "      <td>2017-01-04</td>\n",
       "    </tr>\n",
       "    <tr>\n",
       "      <td>2</td>\n",
       "      <td>2017-01-05</td>\n",
       "    </tr>\n",
       "    <tr>\n",
       "      <td>3</td>\n",
       "      <td>2017-01-06</td>\n",
       "    </tr>\n",
       "    <tr>\n",
       "      <td>4</td>\n",
       "      <td>2017-01-09</td>\n",
       "    </tr>\n",
       "  </tbody>\n",
       "</table>\n",
       "</div>"
      ],
      "text/plain": [
       "          ds\n",
       "0 2017-01-03\n",
       "1 2017-01-04\n",
       "2 2017-01-05\n",
       "3 2017-01-06\n",
       "4 2017-01-09"
      ]
     },
     "execution_count": 9,
     "metadata": {},
     "output_type": "execute_result"
    }
   ],
   "source": [
    "future = Fb.make_future_dataframe(periods=30) #novas datas, posteriores ao valores da base de treino\n",
    "future.head()"
   ]
  },
  {
   "cell_type": "code",
   "execution_count": 10,
   "metadata": {},
   "outputs": [
    {
     "data": {
      "text/html": [
       "<div>\n",
       "<style scoped>\n",
       "    .dataframe tbody tr th:only-of-type {\n",
       "        vertical-align: middle;\n",
       "    }\n",
       "\n",
       "    .dataframe tbody tr th {\n",
       "        vertical-align: top;\n",
       "    }\n",
       "\n",
       "    .dataframe thead th {\n",
       "        text-align: right;\n",
       "    }\n",
       "</style>\n",
       "<table border=\"1\" class=\"dataframe\">\n",
       "  <thead>\n",
       "    <tr style=\"text-align: right;\">\n",
       "      <th></th>\n",
       "      <th>ds</th>\n",
       "    </tr>\n",
       "  </thead>\n",
       "  <tbody>\n",
       "    <tr>\n",
       "      <td>528</td>\n",
       "      <td>2019-01-28</td>\n",
       "    </tr>\n",
       "    <tr>\n",
       "      <td>529</td>\n",
       "      <td>2019-01-29</td>\n",
       "    </tr>\n",
       "    <tr>\n",
       "      <td>530</td>\n",
       "      <td>2019-01-30</td>\n",
       "    </tr>\n",
       "    <tr>\n",
       "      <td>531</td>\n",
       "      <td>2019-01-31</td>\n",
       "    </tr>\n",
       "    <tr>\n",
       "      <td>532</td>\n",
       "      <td>2019-02-01</td>\n",
       "    </tr>\n",
       "  </tbody>\n",
       "</table>\n",
       "</div>"
      ],
      "text/plain": [
       "            ds\n",
       "528 2019-01-28\n",
       "529 2019-01-29\n",
       "530 2019-01-30\n",
       "531 2019-01-31\n",
       "532 2019-02-01"
      ]
     },
     "execution_count": 10,
     "metadata": {},
     "output_type": "execute_result"
    }
   ],
   "source": [
    "future.tail()"
   ]
  },
  {
   "cell_type": "markdown",
   "metadata": {},
   "source": [
    "## Fazendo as predições\n",
    "\n",
    "Ao realizar as predições, é possível perceber que o forecast produzirá múltiplas colunas, relacionadas com as transformações anuais e semanais dos dados"
   ]
  },
  {
   "cell_type": "code",
   "execution_count": 11,
   "metadata": {},
   "outputs": [],
   "source": [
    "forecast = Fb.predict(future)"
   ]
  },
  {
   "cell_type": "code",
   "execution_count": 12,
   "metadata": {},
   "outputs": [
    {
     "data": {
      "text/html": [
       "<div>\n",
       "<style scoped>\n",
       "    .dataframe tbody tr th:only-of-type {\n",
       "        vertical-align: middle;\n",
       "    }\n",
       "\n",
       "    .dataframe tbody tr th {\n",
       "        vertical-align: top;\n",
       "    }\n",
       "\n",
       "    .dataframe thead th {\n",
       "        text-align: right;\n",
       "    }\n",
       "</style>\n",
       "<table border=\"1\" class=\"dataframe\">\n",
       "  <thead>\n",
       "    <tr style=\"text-align: right;\">\n",
       "      <th></th>\n",
       "      <th>ds</th>\n",
       "      <th>trend</th>\n",
       "      <th>yhat_lower</th>\n",
       "      <th>yhat_upper</th>\n",
       "      <th>trend_lower</th>\n",
       "      <th>trend_upper</th>\n",
       "      <th>multiplicative_terms</th>\n",
       "      <th>multiplicative_terms_lower</th>\n",
       "      <th>multiplicative_terms_upper</th>\n",
       "      <th>weekly</th>\n",
       "      <th>weekly_lower</th>\n",
       "      <th>weekly_upper</th>\n",
       "      <th>additive_terms</th>\n",
       "      <th>additive_terms_lower</th>\n",
       "      <th>additive_terms_upper</th>\n",
       "      <th>yhat</th>\n",
       "    </tr>\n",
       "  </thead>\n",
       "  <tbody>\n",
       "    <tr>\n",
       "      <td>0</td>\n",
       "      <td>2017-01-03</td>\n",
       "      <td>13.695221</td>\n",
       "      <td>45.497720</td>\n",
       "      <td>50.482534</td>\n",
       "      <td>13.695221</td>\n",
       "      <td>13.695221</td>\n",
       "      <td>2.496871</td>\n",
       "      <td>2.496871</td>\n",
       "      <td>2.496871</td>\n",
       "      <td>2.496871</td>\n",
       "      <td>2.496871</td>\n",
       "      <td>2.496871</td>\n",
       "      <td>0.0</td>\n",
       "      <td>0.0</td>\n",
       "      <td>0.0</td>\n",
       "      <td>47.890417</td>\n",
       "    </tr>\n",
       "    <tr>\n",
       "      <td>1</td>\n",
       "      <td>2017-01-04</td>\n",
       "      <td>13.678693</td>\n",
       "      <td>45.236200</td>\n",
       "      <td>50.505958</td>\n",
       "      <td>13.678693</td>\n",
       "      <td>13.678693</td>\n",
       "      <td>2.496224</td>\n",
       "      <td>2.496224</td>\n",
       "      <td>2.496224</td>\n",
       "      <td>2.496224</td>\n",
       "      <td>2.496224</td>\n",
       "      <td>2.496224</td>\n",
       "      <td>0.0</td>\n",
       "      <td>0.0</td>\n",
       "      <td>0.0</td>\n",
       "      <td>47.823780</td>\n",
       "    </tr>\n",
       "    <tr>\n",
       "      <td>2</td>\n",
       "      <td>2017-01-05</td>\n",
       "      <td>13.662166</td>\n",
       "      <td>45.095015</td>\n",
       "      <td>50.471775</td>\n",
       "      <td>13.662166</td>\n",
       "      <td>13.662166</td>\n",
       "      <td>2.490244</td>\n",
       "      <td>2.490244</td>\n",
       "      <td>2.490244</td>\n",
       "      <td>2.490244</td>\n",
       "      <td>2.490244</td>\n",
       "      <td>2.490244</td>\n",
       "      <td>0.0</td>\n",
       "      <td>0.0</td>\n",
       "      <td>0.0</td>\n",
       "      <td>47.684286</td>\n",
       "    </tr>\n",
       "    <tr>\n",
       "      <td>3</td>\n",
       "      <td>2017-01-06</td>\n",
       "      <td>13.645638</td>\n",
       "      <td>45.041966</td>\n",
       "      <td>50.421116</td>\n",
       "      <td>13.645638</td>\n",
       "      <td>13.645638</td>\n",
       "      <td>2.489925</td>\n",
       "      <td>2.489925</td>\n",
       "      <td>2.489925</td>\n",
       "      <td>2.489925</td>\n",
       "      <td>2.489925</td>\n",
       "      <td>2.489925</td>\n",
       "      <td>0.0</td>\n",
       "      <td>0.0</td>\n",
       "      <td>0.0</td>\n",
       "      <td>47.622255</td>\n",
       "    </tr>\n",
       "    <tr>\n",
       "      <td>4</td>\n",
       "      <td>2017-01-09</td>\n",
       "      <td>13.596054</td>\n",
       "      <td>44.645433</td>\n",
       "      <td>50.198821</td>\n",
       "      <td>13.596054</td>\n",
       "      <td>13.596054</td>\n",
       "      <td>2.488917</td>\n",
       "      <td>2.488917</td>\n",
       "      <td>2.488917</td>\n",
       "      <td>2.488917</td>\n",
       "      <td>2.488917</td>\n",
       "      <td>2.488917</td>\n",
       "      <td>0.0</td>\n",
       "      <td>0.0</td>\n",
       "      <td>0.0</td>\n",
       "      <td>47.435508</td>\n",
       "    </tr>\n",
       "  </tbody>\n",
       "</table>\n",
       "</div>"
      ],
      "text/plain": [
       "          ds      trend  yhat_lower  yhat_upper  trend_lower  trend_upper  \\\n",
       "0 2017-01-03  13.695221   45.497720   50.482534    13.695221    13.695221   \n",
       "1 2017-01-04  13.678693   45.236200   50.505958    13.678693    13.678693   \n",
       "2 2017-01-05  13.662166   45.095015   50.471775    13.662166    13.662166   \n",
       "3 2017-01-06  13.645638   45.041966   50.421116    13.645638    13.645638   \n",
       "4 2017-01-09  13.596054   44.645433   50.198821    13.596054    13.596054   \n",
       "\n",
       "   multiplicative_terms  multiplicative_terms_lower  \\\n",
       "0              2.496871                    2.496871   \n",
       "1              2.496224                    2.496224   \n",
       "2              2.490244                    2.490244   \n",
       "3              2.489925                    2.489925   \n",
       "4              2.488917                    2.488917   \n",
       "\n",
       "   multiplicative_terms_upper    weekly  weekly_lower  weekly_upper  \\\n",
       "0                    2.496871  2.496871      2.496871      2.496871   \n",
       "1                    2.496224  2.496224      2.496224      2.496224   \n",
       "2                    2.490244  2.490244      2.490244      2.490244   \n",
       "3                    2.489925  2.489925      2.489925      2.489925   \n",
       "4                    2.488917  2.488917      2.488917      2.488917   \n",
       "\n",
       "   additive_terms  additive_terms_lower  additive_terms_upper       yhat  \n",
       "0             0.0                   0.0                   0.0  47.890417  \n",
       "1             0.0                   0.0                   0.0  47.823780  \n",
       "2             0.0                   0.0                   0.0  47.684286  \n",
       "3             0.0                   0.0                   0.0  47.622255  \n",
       "4             0.0                   0.0                   0.0  47.435508  "
      ]
     },
     "execution_count": 12,
     "metadata": {},
     "output_type": "execute_result"
    }
   ],
   "source": [
    "forecast.head()"
   ]
  },
  {
   "cell_type": "code",
   "execution_count": 41,
   "metadata": {},
   "outputs": [
    {
     "data": {
      "text/html": [
       "<div>\n",
       "<style scoped>\n",
       "    .dataframe tbody tr th:only-of-type {\n",
       "        vertical-align: middle;\n",
       "    }\n",
       "\n",
       "    .dataframe tbody tr th {\n",
       "        vertical-align: top;\n",
       "    }\n",
       "\n",
       "    .dataframe thead th {\n",
       "        text-align: right;\n",
       "    }\n",
       "</style>\n",
       "<table border=\"1\" class=\"dataframe\">\n",
       "  <thead>\n",
       "    <tr style=\"text-align: right;\">\n",
       "      <th></th>\n",
       "      <th>ds</th>\n",
       "      <th>yhat</th>\n",
       "    </tr>\n",
       "  </thead>\n",
       "  <tbody>\n",
       "    <tr>\n",
       "      <td>525</td>\n",
       "      <td>2019-01-25</td>\n",
       "      <td>32.850023</td>\n",
       "    </tr>\n",
       "    <tr>\n",
       "      <td>526</td>\n",
       "      <td>2019-01-26</td>\n",
       "      <td>-49.187009</td>\n",
       "    </tr>\n",
       "    <tr>\n",
       "      <td>527</td>\n",
       "      <td>2019-01-27</td>\n",
       "      <td>-49.134725</td>\n",
       "    </tr>\n",
       "    <tr>\n",
       "      <td>528</td>\n",
       "      <td>2019-01-28</td>\n",
       "      <td>32.735923</td>\n",
       "    </tr>\n",
       "    <tr>\n",
       "      <td>529</td>\n",
       "      <td>2019-01-29</td>\n",
       "      <td>32.775598</td>\n",
       "    </tr>\n",
       "    <tr>\n",
       "      <td>530</td>\n",
       "      <td>2019-01-30</td>\n",
       "      <td>32.734597</td>\n",
       "    </tr>\n",
       "    <tr>\n",
       "      <td>531</td>\n",
       "      <td>2019-01-31</td>\n",
       "      <td>32.643716</td>\n",
       "    </tr>\n",
       "    <tr>\n",
       "      <td>532</td>\n",
       "      <td>2019-02-01</td>\n",
       "      <td>32.605857</td>\n",
       "    </tr>\n",
       "  </tbody>\n",
       "</table>\n",
       "</div>"
      ],
      "text/plain": [
       "            ds       yhat\n",
       "525 2019-01-25  32.850023\n",
       "526 2019-01-26 -49.187009\n",
       "527 2019-01-27 -49.134725\n",
       "528 2019-01-28  32.735923\n",
       "529 2019-01-29  32.775598\n",
       "530 2019-01-30  32.734597\n",
       "531 2019-01-31  32.643716\n",
       "532 2019-02-01  32.605857"
      ]
     },
     "execution_count": 41,
     "metadata": {},
     "output_type": "execute_result"
    }
   ],
   "source": [
    "forecast[['ds','yhat']].tail(8)"
   ]
  },
  {
   "cell_type": "markdown",
   "metadata": {},
   "source": [
    "## Fazendo Gráficos para análise\n",
    "O próprio pacote conta com muitas ferramentas de plotagem e validação úteis"
   ]
  },
  {
   "cell_type": "code",
   "execution_count": 14,
   "metadata": {},
   "outputs": [
    {
     "data": {
      "image/png": "[encoded data removed]",
      "text/plain": [
       "<Figure size 720x432 with 1 Axes>"
      ]
     },
     "metadata": {},
     "output_type": "display_data"
    }
   ],
   "source": [
    "P=Fb.plot(forecast,xlabel='Tempo',ylabel='Preço de Fechamento')\n",
    "\n",
    "import matplotlib.pyplot as plt #usado apenas por questões de estética\n",
    "plt.show()"
   ]
  },
  {
   "cell_type": "markdown",
   "metadata": {},
   "source": [
    "## Evidenciando mudanças na tendência\n",
    "\n",
    "Dentre as muitas utilidades, é possível analisar os pontos em que ocorrem uma ruptura na tendência dos dados. Isso é extremamente útil, haja vista que nos permite identificar ocorrências importantes em nossos dados. "
   ]
  },
  {
   "cell_type": "code",
   "execution_count": 15,
   "metadata": {},
   "outputs": [
    {
     "data": {
      "image/png": "[encoded data removed]",
      "text/plain": [
       "<Figure size 720x432 with 1 Axes>"
      ]
     },
     "metadata": {},
     "output_type": "display_data"
    }
   ],
   "source": [
    "from fbprophet.plot import add_changepoints_to_plot #pacote necessário\n",
    "\n",
    "P=Fb.plot(forecast,xlabel='Tempo',ylabel='Preço de Fechamento') \n",
    "\n",
    "a=add_changepoints_to_plot(P.gca(),Fb,forecast)"
   ]
  },
  {
   "cell_type": "markdown",
   "metadata": {},
   "source": [
    "## Análise de Componentes\n",
    "\n",
    "Também é possível utilizar o Prophet para analisar os componentes presentes na Time Serie, uma vez que ele identifica com facilidade a tendência geral, assim como a sazonalidade dos dados "
   ]
  },
  {
   "cell_type": "code",
   "execution_count": 16,
   "metadata": {},
   "outputs": [
    {
     "data": {
      "image/png": "[encoded data removed]",
      "text/plain": [
       "<Figure size 648x432 with 2 Axes>"
      ]
     },
     "metadata": {},
     "output_type": "display_data"
    }
   ],
   "source": [
    "fig = Fb.plot_components(forecast)"
   ]
  },
  {
   "cell_type": "markdown",
   "metadata": {},
   "source": [
    "Enquanto o primeiro gráfico nos ajuda a identificar momentos marcantes na história das ações da american airlines, o segundo gráfico se da em resposta a falta de dados nos Sábados e Domingos (uma vez que a bolsa não abre nesses dias)\n",
    "\n",
    "OBS: para saber mais sobre o que aconteceu com a american airlines no começo de 2018 clique [aqui](https://www.fool.com/investing/2018/04/26/why-american-airlines-stock-dropped-6-today.aspx)"
   ]
  },
  {
   "cell_type": "markdown",
   "metadata": {},
   "source": [
    "## Avaliando o modelo \n",
    "Por fim, depois de mostrar algumas utilidades do Prophet, podemos finalmente avaliar nossas predições. Para isso usaremos métricas de avaliações que já conhecemos."
   ]
  },
  {
   "cell_type": "code",
   "execution_count": 17,
   "metadata": {},
   "outputs": [],
   "source": [
    "from sklearn.metrics import mean_squared_error "
   ]
  },
  {
   "cell_type": "code",
   "execution_count": 43,
   "metadata": {},
   "outputs": [],
   "source": [
    "y_true=DataReader('AAL','yahoo','01-02-2019','02-01-2019')"
   ]
  },
  {
   "cell_type": "code",
   "execution_count": 44,
   "metadata": {},
   "outputs": [],
   "source": [
    "y_true=y_true['Close']"
   ]
  },
  {
   "cell_type": "code",
   "execution_count": 45,
   "metadata": {},
   "outputs": [],
   "source": [
    "y_true=y_true.values"
   ]
  },
  {
   "cell_type": "code",
   "execution_count": 46,
   "metadata": {},
   "outputs": [
    {
     "data": {
      "text/plain": [
       "22"
      ]
     },
     "execution_count": 46,
     "metadata": {},
     "output_type": "execute_result"
    }
   ],
   "source": [
    "len(y_true)"
   ]
  },
  {
   "cell_type": "code",
   "execution_count": 49,
   "metadata": {},
   "outputs": [],
   "source": [
    "y_pred=forecast['yhat'].tail(22).values"
   ]
  },
  {
   "cell_type": "code",
   "execution_count": 50,
   "metadata": {},
   "outputs": [
    {
     "data": {
      "text/plain": [
       "1835.2689749957835"
      ]
     },
     "execution_count": 50,
     "metadata": {},
     "output_type": "execute_result"
    }
   ],
   "source": [
    "mean_squared_error(y_true,y_pred)"
   ]
  },
  {
   "cell_type": "code",
   "execution_count": null,
   "metadata": {},
   "outputs": [],
   "source": []
  }
 ],
 "metadata": {
  "kernelspec": {
   "display_name": "Python 3",
   "language": "python",
   "name": "python3"
  },
  "language_info": {
   "codemirror_mode": {
    "name": "ipython",
    "version": 3
   },
   "file_extension": ".py",
   "mimetype": "text/x-python",
   "name": "python",
   "nbconvert_exporter": "python",
   "pygments_lexer": "ipython3",
   "version": "3.7.4"
  }
 },
 "nbformat": 4,
 "nbformat_minor": 2
}
