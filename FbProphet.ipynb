{
 "cells": [
  {
   "cell_type": "markdown",
   "metadata": {},
   "source": [
    "<img src=\"https://www.politecnicos.com.br/img/075.jpg\" alt=\"Grupo Turing\" height=\"420\" width=\"420\">\n"
   ]
  },
  {
   "cell_type": "markdown",
   "metadata": {},
   "source": [
    "# Prophet - Resumo e Aplicação\n",
    "\n",
    "<img id=\"YqOEc9IXkyKm5M:\" src=\"data:image/png;base64,iVBORw0KGgoAAAANSUhEUgAAAaQAAAB4CAMAAACKGXbnAAAAeFBMVEU7WZj///84V5cwUZQ2VZb7/P34+fubqMiptM4sT5Pv8fbS2OZUbqVkfK5IZJ9cdqrd4uwlSpG9xtprgbCzvtZAXpt6jbhPaqOFl79+kLjX3eqSosWisM3z9fnCy95MZp/n6/O3wddyhrKUo8RZcabL0uKLm8AbR5D4Ht7GAAAJ8UlEQVR4nO2da5eiOBCGIQTkIkKLgCIoeNv//w8XVJIolQR7e1baqefLnNNapMhrkkqlYAwDQRAEQRAEQRAEQRAEQRAEQRAEQT4dankefbcTiBJ6KndNRsm7/UDk0Mh3TLOaWe92BJHzVZhXTjiUJguJbhqZLg6lyUIPd5GW3rtdQWSQvX0TaYsjabp4zVWjOsc1abqQvKlMMzjgTmnKkEWYHeY4jiYOaXm3DwiCID8PoRSnt2lDvTxJTgR3RdOFWNEyruv4vDZwME0UQtb1LcHgrFJUaZrQzT0J1LLCsTRJyL42ORkmGaaIdRE0MoOvd/uDAHg7USQTR9IU+YofRJqjShPkSSQ8nZgi3vJBJA9FmiDsrBwPzCdMeuYaOSEuSW+E9Aw/ObCNUnX8Wyc7Qq0hY5LOFIa8nBVoPaD5fB5F83xveM91qYRk51vOoT7ytJDM6xfuFrgjxWdPX5AxHOmgpwPUjpN0MxuwzsJ9299KwzwDSfLuXEFp+XzjeeaudvGVYFVuFk/BASHzSxMEu1nI5SdpNvT6kiV7QpRCkXTdf/s4cJJc2JX2sKuHYaNPJMMWAU8HlOqolczPtvNMVfl1USaGQmASxdUNX/zH9+t6dwy/xtZpW3TTxJXN0nO2XcVN+GRMyWI+XxjiNRergdNXr+vVYaHyOi/6u60HMYgV9Feqnz244bnVsNUH7NlgHkmXw/4dYCbK3zWZB6YEJ56lUlsS+TI70/TjbNQhHaFZMbQuFsDK9DSLLpZDu7vMcZnLvc7ZtqsaisRCFB8OUCzXhtvkzAZG6U5n06GufFKI1PVXJlthlCJ1lol2bSJpAkg0LoSTi9RSbwGZb02+QSSVp4z/IpLpl5IzHJ1IZj1bqNrtWi5rwK7ajFnRlCKZ9koyx/8PIg2nO51Nx38SyTQlKmlFMqtSqRKNdtAt22WqsupRi2SaO3jK+8yR1D0GBNtpRWq3NYqWaXSGbOzluOycTiSzAX9bnyqSWYPzzwiRTD+SNk1zaDkyzUBu8oBWJGf2JpHeMt21U8ceuN8xIplnWaqNWLBGcTIydNeKZMbQI2YfEN2t7gRF7QgXqC7AFQSRarc3XLaWYtOOdFw0Dy5WxTEJwzDKRtfgCyLt7o3virgSrmmXQN7gx0QKVjDZwChdxQWnZldwHv4Mb8yY21wk2/BufH2l2U6QqQEiAEGkpeV5zDJfB4KlZFWim4cfQRN+WfekkspVEUGk7KtvnISuMLyLCNhu/ZBI9uUfDwSws4SPvxL2I64frqBJC3GRHOGv1Dryn2UN+CyItBPjMWrtXW55BtukkTDZ2UFGXs9tCyKt+Yih9MDPCKEJ4MdE+ubzazRh7ccvlGvAInUelex2HSB0kInUOrLnsbUP7SoJKYW5facMFWT6wSK1a92BjVEomP80keic/dyBjJRCJMPK2FDywdVbHEjnk0ojuljDH0tEauEfLIez9KeJ1K547HaB0lGFSCRlE68PJg63wkyq1MiKzhUUWipEIrwE7Dx8zOzTRCIGn+9WwMShEInynoD2WIuGXdi8qG7W61YY+BtykUI23/0VIs2+KZJBmCfQ3VIe4bQbKXlYQ9NZN+J2YH/JRYr+KpHS744kg/LpDgiD6Zpd15SsONev5a4z9KpHLlLCghKdSOkTBuuJESJ54KG0jp9fkxrWD+5LaxJN2Ef+cEUhqcuu60trHQkN7zGiDS5rUpHokX2wG6YBBZHs8mkf6vJNln4z22SbIYNj2QE/PpIiNh6cC7AtlIfg6ZJvzIEWxWSBNE9O1n0EaB+hmUUmEjGEBIoyulOhF8nxAZbaBP5PiyQUYVdAtkYmErkvJTdKwHDP09+l9GAwFfoaSgDK9kkeH0jOEdg4/JRIIGfNCdrPiNQdUpPu50gsr+EOBUCcLKaFeOGQZVnRkmvkAFMVOfF+AvZfd1L+Jb1I3dF65zmhnpgnAZ6T+f0i2SnLoM3XYpbahcrhuEhF2JcKbbZlIN5HDNSECNOoeZS69cJI2vRruJX2xV+3LgNOpn6/SGZ8Dm4UYjrZjKGle9RRBXSvI0Xic6JOpN7rc1CLfVhBa9kHiATjlKCdXiTbhU8LuUiK6Y6PZJ1Ish6Djng/ViRgu2GMEgkIga8N8v4fJVLzLZHqg+ZkVsWvEylOwM21ViRnCWxkOxY8bGxkMSud884E3w+pE8kHdg3Gnxbp/wjBQWLJmaFOJL+UvUVLSNzWsu9Ya3Z1G8xKaERy1tqSLntbPvPCZnY3qsZ4wJ8RKZhLkh0akYpE9s4FkvKcoCwtRMiKFx6Dk6ZapDj7TnEkfSUtBE8vcKtCE39ApHotLRZWitQOP0VSjp/LwQtHt5fiSxIUxqtFqlzZL+tJJPLAiwlWMkR6y/zef1Yk2/ELRSm4KJJ9r9zndQsVvI71Lfad4UuKVQmZ8WsBSQtDLpJTxe5JXrH/+7Pgpl9fU1B1HMdFM0tS1VMzYrXQZn1FqAKJ4aO6G32G1ZGWMAuHGSZ8ui6I1Hvdul2c3U2uKur4AJEut2RuFkbzNAWeh3qw4yLF1Lpt+PlCYq5UtpurBnYjUZIPtZYAnrkEkcq710l0WqSG+rzg94tkp+xgRD+9iiL1HkRCqc5afhdkcc0LyopVqXBGIont4LQQ0T9l+PtFgo/XZHZDkQhZCxOe4gEW2j0GKySbHnrWysVC/rNktMkLUdRe//UitT4IJbVL2TNC3XFGO1ZY0ECshWfdZqnu6dm1uN30ZSWtbxfJA6I7fYQ3BZHYf/Vhwsc5zDgvtqyPyCaut/N9d4C9D8vHjIAr28O/W6TZKQKZq9ufhEg0E85zJJug6/fCPrAj+XWjbwe75XL3XMUPZ/863iySlEIV1k5EJMPjBQxwHro37zWaN2JZ+COBXOapihT8BpFILoTP8D5UxIoU+Y4gkcfTKNIoO1ikdoXhEV6leUSZeJkiKR2orFGkUXYSkQyhYsuMlW+2JcZMkf9rlIX8KNIoO5lI5CRMeODZLGMh6PlEvVXkDQ0UaaSdTCTD2vDMm6MoUe12SGEAhg3+Ktf0/N8nkn3DHPVwfm8XsWC7ePoodR27R/MQLE2z3cNDlG0w7hdNqM1LtSL1Xit/B89etyLd7apBJ1lF77UveW3Nit8YzBiR7l+tX3nn72Lr3lm+8n4tclreS4uC8vm9WieXsdK9JJoa4XEZ1L7vtPL4dXx216fBm7qGraeX1b2FwZuIlKQz5tnw0I95XcJdTS+uhtVM/X55cuLtv5RY4gXnr1iRdJ/fGeR/Xixip2R+2FzKlbvdbBLt28HuzfN6zNee5VTcLdF6LXl7HMfS3a/Qxktuf5NXDiS1l2q7pXusYcwb65C3gvogCIIgCIIgCIIgCIIgCIIgCIIgCIIgCIIgCIIgCIIgCIJI+BecItNzWU49HAAAAABJRU5ErkJggg==\" jsaction=\"load:str.tbn\" class=\"rg_ic rg_i\" alt=\"Resultado de imagem para fbprophet\" style=\"width: 270px; height: 77px; margin-left: -8px; margin-right: -8px; margin-top: 29px;\" data-atf=\"1\">\n",
    "\n",
    "Autor: Felipe Azank dos Santos"
   ]
  },
  {
   "cell_type": "markdown",
   "metadata": {},
   "source": [
    "O Facebook Prophet, ou apenas Prophet, consiste em uma técnica de previsão com base em dados que se alteram com o passar do tempo (Time Series). Essa técnica, desenvolvida pela equipe de Data Scientists do Facebook, se destaca uma vez que consegue lidar muito bem com dados sazonais variáveis, compreendendo desde padrões anuais e mensais, até o impacto de feriados e promoções. Ademais, o Prophet também lida com outliers com extrema facilidade, além de vir com um aparato de funções de vizualizações de resultados extremamente didático. \n",
    "\n",
    "Na prática, sua utilização é bem semelhante com os métodos que utilizamos para treinar modelos supervisionados no Scikit-Learn. "
   ]
  },
  {
   "cell_type": "markdown",
   "metadata": {},
   "source": [
    "## Passo 1: Instalando o Prophet \n",
    "\n",
    "Guia do próprio site disponível [aqui](https://facebook.github.io/prophet/docs/installation.html)\n",
    "\n",
    "OU apenas use o seguinte comando no terminal da anaconda: **conda install -c conda-forge fbprophet**"
   ]
  },
  {
   "cell_type": "markdown",
   "metadata": {},
   "source": [
    "## Passo 2: Importando as bibliotecas necessárias"
   ]
  },
  {
   "cell_type": "code",
   "execution_count": 41,
   "metadata": {},
   "outputs": [],
   "source": [
    "import pandas as pd #biblioteca que usaremos para manipular os nossos dados\n",
    "\n",
    "from pandas_datareader.data import DataReader #pacote que utilizaremos para importar os dados\n",
    "\n",
    "from fbprophet import Prophet #biblioteca da predição em si"
   ]
  },
  {
   "cell_type": "markdown",
   "metadata": {},
   "source": [
    "## Passo 3: Importando os preços de uma ação\n",
    "\n",
    "<img class=\"irc_mi\" src=\"https://i.ytimg.com/vi/YttPJlBFG-c/hqdefault.jpg\" width=\"250\" height=\"360\" style=\"\" alt=\"Resultado de imagem para stonks\">\n",
    "\n",
    "É possível importar ações e dados econômicos de diversas maneiras distintas. Uma forma simples de se fazer isso é utilizando o pacote pandas_datareader com a função \"DataReader\", utilizada da seguinte maneira:\n",
    "\n",
    "* pd.DataReader(\"código da ação\",\"local de retirada do dado\",\"data de início\",\"data de fim\")\n",
    "\n",
    "**OBS:** Para dados da bolsa, sempre utilize o segundo argumento como \"yahoo\", haja vista que o Yahoo Finance fornece dados confiáveis e precisos\n",
    "\n",
    "**OBS2:** Caso queira importar alguns dados econômicos fornecidos pela Federal Reserve dos Estados Unidos (disponíveis [neste site](https://fred.stlouisfed.org/searchresults?st=brazil%5D), basta trocar o segundo argumento para \"fred\" e inserir no primeiro argumento o código presente no site :) "
   ]
  },
  {
   "cell_type": "markdown",
   "metadata": {},
   "source": [
    "\n",
    "\n"
   ]
  },
  {
   "cell_type": "code",
   "execution_count": 42,
   "metadata": {},
   "outputs": [],
   "source": [
    "# Importando as ações da American Airlines\n",
    "data=DataReader('AAL','yahoo','01-01-2015','01-01-2019')"
   ]
  },
  {
   "cell_type": "code",
   "execution_count": 43,
   "metadata": {
    "scrolled": true
   },
   "outputs": [
    {
     "data": {
      "text/html": [
       "<div>\n",
       "<style scoped>\n",
       "    .dataframe tbody tr th:only-of-type {\n",
       "        vertical-align: middle;\n",
       "    }\n",
       "\n",
       "    .dataframe tbody tr th {\n",
       "        vertical-align: top;\n",
       "    }\n",
       "\n",
       "    .dataframe thead th {\n",
       "        text-align: right;\n",
       "    }\n",
       "</style>\n",
       "<table border=\"1\" class=\"dataframe\">\n",
       "  <thead>\n",
       "    <tr style=\"text-align: right;\">\n",
       "      <th></th>\n",
       "      <th>High</th>\n",
       "      <th>Low</th>\n",
       "      <th>Open</th>\n",
       "      <th>Close</th>\n",
       "      <th>Volume</th>\n",
       "      <th>Adj Close</th>\n",
       "    </tr>\n",
       "    <tr>\n",
       "      <th>Date</th>\n",
       "      <th></th>\n",
       "      <th></th>\n",
       "      <th></th>\n",
       "      <th></th>\n",
       "      <th></th>\n",
       "      <th></th>\n",
       "    </tr>\n",
       "  </thead>\n",
       "  <tbody>\n",
       "    <tr>\n",
       "      <td>2015-01-02</td>\n",
       "      <td>54.599998</td>\n",
       "      <td>53.070000</td>\n",
       "      <td>54.279999</td>\n",
       "      <td>53.910000</td>\n",
       "      <td>10748600.0</td>\n",
       "      <td>51.268681</td>\n",
       "    </tr>\n",
       "    <tr>\n",
       "      <td>2015-01-05</td>\n",
       "      <td>54.540001</td>\n",
       "      <td>53.340000</td>\n",
       "      <td>54.369999</td>\n",
       "      <td>53.880001</td>\n",
       "      <td>11565000.0</td>\n",
       "      <td>51.240143</td>\n",
       "    </tr>\n",
       "    <tr>\n",
       "      <td>2015-01-06</td>\n",
       "      <td>54.430000</td>\n",
       "      <td>52.130001</td>\n",
       "      <td>54.270000</td>\n",
       "      <td>53.040001</td>\n",
       "      <td>13772200.0</td>\n",
       "      <td>50.441311</td>\n",
       "    </tr>\n",
       "    <tr>\n",
       "      <td>2015-01-07</td>\n",
       "      <td>53.650002</td>\n",
       "      <td>52.119999</td>\n",
       "      <td>53.380001</td>\n",
       "      <td>53.009998</td>\n",
       "      <td>10069800.0</td>\n",
       "      <td>50.412769</td>\n",
       "    </tr>\n",
       "    <tr>\n",
       "      <td>2015-01-08</td>\n",
       "      <td>54.279999</td>\n",
       "      <td>53.250000</td>\n",
       "      <td>53.480000</td>\n",
       "      <td>53.660000</td>\n",
       "      <td>9672100.0</td>\n",
       "      <td>51.030930</td>\n",
       "    </tr>\n",
       "  </tbody>\n",
       "</table>\n",
       "</div>"
      ],
      "text/plain": [
       "                 High        Low       Open      Close      Volume  Adj Close\n",
       "Date                                                                         \n",
       "2015-01-02  54.599998  53.070000  54.279999  53.910000  10748600.0  51.268681\n",
       "2015-01-05  54.540001  53.340000  54.369999  53.880001  11565000.0  51.240143\n",
       "2015-01-06  54.430000  52.130001  54.270000  53.040001  13772200.0  50.441311\n",
       "2015-01-07  53.650002  52.119999  53.380001  53.009998  10069800.0  50.412769\n",
       "2015-01-08  54.279999  53.250000  53.480000  53.660000   9672100.0  51.030930"
      ]
     },
     "execution_count": 43,
     "metadata": {},
     "output_type": "execute_result"
    }
   ],
   "source": [
    "data.head()"
   ]
  },
  {
   "cell_type": "markdown",
   "metadata": {},
   "source": [
    "## Criando o DataFrame necessário\n",
    "\n",
    "Agora, criaremos o DataFrame necessário para que seja possível realizarmos a predição. Para que isso seja possível, vamos selecionar apenas duas colunas nomeadas \"ds\" e \"y\", sendo a primeira formada pelas datas, e a segunda, formada pelos valores desejados. \n",
    "\n",
    "Nesse caso usaremos o preço de fechamento da ação (\"Close\")"
   ]
  },
  {
   "cell_type": "code",
   "execution_count": 47,
   "metadata": {},
   "outputs": [],
   "source": [
    "df=pd.DataFrame() #iniciamos um dataframe vazio \n",
    "\n",
    "df['y']=data['Close'] #criamos a coluna 'y'\n",
    "\n",
    "data.index=pd.to_datetime(data.index) #certificamos que a data esteja no formato \"datetime\"\n",
    "\n",
    "df['ds']=data.index #criamos a coluna 'ds'"
   ]
  },
  {
   "cell_type": "code",
   "execution_count": 48,
   "metadata": {},
   "outputs": [
    {
     "data": {
      "text/html": [
       "<div>\n",
       "<style scoped>\n",
       "    .dataframe tbody tr th:only-of-type {\n",
       "        vertical-align: middle;\n",
       "    }\n",
       "\n",
       "    .dataframe tbody tr th {\n",
       "        vertical-align: top;\n",
       "    }\n",
       "\n",
       "    .dataframe thead th {\n",
       "        text-align: right;\n",
       "    }\n",
       "</style>\n",
       "<table border=\"1\" class=\"dataframe\">\n",
       "  <thead>\n",
       "    <tr style=\"text-align: right;\">\n",
       "      <th></th>\n",
       "      <th>y</th>\n",
       "      <th>ds</th>\n",
       "    </tr>\n",
       "    <tr>\n",
       "      <th>Date</th>\n",
       "      <th></th>\n",
       "      <th></th>\n",
       "    </tr>\n",
       "  </thead>\n",
       "  <tbody>\n",
       "    <tr>\n",
       "      <td>2015-01-02</td>\n",
       "      <td>53.910000</td>\n",
       "      <td>2015-01-02</td>\n",
       "    </tr>\n",
       "    <tr>\n",
       "      <td>2015-01-05</td>\n",
       "      <td>53.880001</td>\n",
       "      <td>2015-01-05</td>\n",
       "    </tr>\n",
       "    <tr>\n",
       "      <td>2015-01-06</td>\n",
       "      <td>53.040001</td>\n",
       "      <td>2015-01-06</td>\n",
       "    </tr>\n",
       "    <tr>\n",
       "      <td>2015-01-07</td>\n",
       "      <td>53.009998</td>\n",
       "      <td>2015-01-07</td>\n",
       "    </tr>\n",
       "    <tr>\n",
       "      <td>2015-01-08</td>\n",
       "      <td>53.660000</td>\n",
       "      <td>2015-01-08</td>\n",
       "    </tr>\n",
       "  </tbody>\n",
       "</table>\n",
       "</div>"
      ],
      "text/plain": [
       "                    y         ds\n",
       "Date                            \n",
       "2015-01-02  53.910000 2015-01-02\n",
       "2015-01-05  53.880001 2015-01-05\n",
       "2015-01-06  53.040001 2015-01-06\n",
       "2015-01-07  53.009998 2015-01-07\n",
       "2015-01-08  53.660000 2015-01-08"
      ]
     },
     "execution_count": 48,
     "metadata": {},
     "output_type": "execute_result"
    }
   ],
   "source": [
    "df.head()"
   ]
  },
  {
   "cell_type": "markdown",
   "metadata": {},
   "source": [
    "## Montando o preditor"
   ]
  },
  {
   "cell_type": "code",
   "execution_count": null,
   "metadata": {},
   "outputs": [],
   "source": [
    "clf=Prophet()"
   ]
  },
  {
   "cell_type": "code",
   "execution_count": null,
   "metadata": {},
   "outputs": [],
   "source": [
    "clf.fit(df)"
   ]
  },
  {
   "cell_type": "code",
   "execution_count": null,
   "metadata": {},
   "outputs": [],
   "source": [
    "future = clf.make_future_dataframe(periods=15)\n",
    "future.tail()"
   ]
  },
  {
   "cell_type": "code",
   "execution_count": null,
   "metadata": {},
   "outputs": [],
   "source": [
    "forecast = clf.predict(future)"
   ]
  },
  {
   "cell_type": "code",
   "execution_count": null,
   "metadata": {},
   "outputs": [],
   "source": [
    "forecast.head()"
   ]
  },
  {
   "cell_type": "code",
   "execution_count": null,
   "metadata": {},
   "outputs": [],
   "source": [
    "forecast[['ds','yhat']].head(8)"
   ]
  },
  {
   "cell_type": "code",
   "execution_count": null,
   "metadata": {},
   "outputs": [],
   "source": []
  }
 ],
 "metadata": {
  "kernelspec": {
   "display_name": "Python 3",
   "language": "python",
   "name": "python3"
  },
  "language_info": {
   "codemirror_mode": {
    "name": "ipython",
    "version": 3
   },
   "file_extension": ".py",
   "mimetype": "text/x-python",
   "name": "python",
   "nbconvert_exporter": "python",
   "pygments_lexer": "ipython3",
   "version": "3.7.4"
  }
 },
 "nbformat": 4,
 "nbformat_minor": 2
}
